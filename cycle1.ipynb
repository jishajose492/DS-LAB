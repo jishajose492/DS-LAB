{
 "cells": [
  {
   "cell_type": "code",
   "execution_count": 2,
   "id": "e83520bb-f190-4417-815a-5ce8656893f0",
   "metadata": {},
   "outputs": [
    {
     "name": "stdout",
     "output_type": "stream",
     "text": [
      "[20 30 40 50 60]\n",
      "[20 90 40 50 70]\n",
      "[False False False False False]\n",
      "[ True False  True  True False]\n",
      "[False  True False False  True]\n",
      "[ True  True  True  True  True]\n"
     ]
    }
   ],
   "source": [
    "import numpy as np\n",
    "arr152 = np.array([20,30,40,50,60])\n",
    "arr252 = np.array([20,90,40,50,70])\n",
    "print(arr152)\n",
    "print(arr252)\n",
    "print(np.greater(arr152,arr252))\n",
    "print(np.greater_equal(arr152,arr252))\n",
    "print(np.less(arr152,arr252))\n",
    "print(np.less_equal(arr152,arr252))"
   ]
  },
  {
   "cell_type": "code",
   "execution_count": 3,
   "id": "dc973adb-202f-49d4-ab82-a17db60bb142",
   "metadata": {},
   "outputs": [
    {
     "name": "stdout",
     "output_type": "stream",
     "text": [
      "3x3 matrix:\n",
      "[[1. 0. 0.]\n",
      " [0. 1. 0.]\n",
      " [0. 0. 1.]]\n"
     ]
    }
   ],
   "source": [
    "arr452=np.identity(3)\n",
    "print('3x3 matrix:')\n",
    "print(arr452)\n"
   ]
  }
 ],
 "metadata": {
  "kernelspec": {
   "display_name": "Python 3 (ipykernel)",
   "language": "python",
   "name": "python3"
  },
  "language_info": {
   "codemirror_mode": {
    "name": "ipython",
    "version": 3
   },
   "file_extension": ".py",
   "mimetype": "text/x-python",
   "name": "python",
   "nbconvert_exporter": "python",
   "pygments_lexer": "ipython3",
   "version": "3.9.12"
  }
 },
 "nbformat": 4,
 "nbformat_minor": 5
}
